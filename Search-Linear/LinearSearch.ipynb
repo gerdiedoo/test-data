{
 "cells": [
  {
   "cell_type": "code",
   "execution_count": 1,
   "metadata": {},
   "outputs": [],
   "source": [
    "#! /usr/bin/env python3 "
   ]
  },
  {
   "cell_type": "code",
   "execution_count": 2,
   "metadata": {},
   "outputs": [],
   "source": [
    "comment = \"\"\"\n",
    "The time complexity of the linear search is O(n), where n is the length of the array A.\n",
    "\n",
    "This complexity arises because in the worst case:\n",
    "\n",
    "    The key element may be in the last position of the array (n steps).\n",
    "    If the key element does not exist in the array, we will, by necessity, run through all array elements (n steps).\n",
    "\"\"\"\n"
   ]
  },
  {
   "cell_type": "code",
   "execution_count": 3,
   "metadata": {},
   "outputs": [],
   "source": [
    "def linear_search(A, k):\n",
    "  for element in A:\n",
    "    if element == k:\n",
    "      return 'k is found'\n",
    "  return 'k is not found'"
   ]
  },
  {
   "cell_type": "code",
   "execution_count": 4,
   "metadata": {},
   "outputs": [],
   "source": [
    "# list\n",
    "A = [2, 4, 11, 100, 63, 23, 92, 16, 44]\n",
    "# the key element \n",
    "k = 12"
   ]
  },
  {
   "cell_type": "code",
   "execution_count": 5,
   "metadata": {},
   "outputs": [
    {
     "name": "stdout",
     "output_type": "stream",
     "text": [
      "k is not found\n"
     ]
    }
   ],
   "source": [
    "print(linear_search(A, k))"
   ]
  },
  {
   "cell_type": "code",
   "execution_count": null,
   "metadata": {},
   "outputs": [],
   "source": []
  }
 ],
 "metadata": {
  "kernelspec": {
   "display_name": "Python 3",
   "language": "python",
   "name": "python3"
  },
  "language_info": {
   "codemirror_mode": {
    "name": "ipython",
    "version": 3
   },
   "file_extension": ".py",
   "mimetype": "text/x-python",
   "name": "python",
   "nbconvert_exporter": "python",
   "pygments_lexer": "ipython3",
   "version": "3.8.2"
  }
 },
 "nbformat": 4,
 "nbformat_minor": 4
}
