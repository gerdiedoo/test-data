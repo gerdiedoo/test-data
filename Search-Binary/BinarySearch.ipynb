{
 "cells": [
  {
   "cell_type": "code",
   "execution_count": 1,
   "metadata": {},
   "outputs": [],
   "source": [
    "#! /usr/bin/env python3"
   ]
  },
  {
   "cell_type": "code",
   "execution_count": 2,
   "metadata": {},
   "outputs": [
    {
     "name": "stdout",
     "output_type": "stream",
     "text": [
      "k is found\n"
     ]
    }
   ],
   "source": [
    "\"\"\"\n",
    "A binary search is a function with 4 parameters: \n",
    "    A = list \n",
    "    l = the first index \n",
    "    h = the last index\n",
    "    k = the key element \n",
    "    mid = the mid element\n",
    "\n",
    "    At first, we select the middle most element of the array.\n",
    "    Let's call it p. (p is located at index l + ( h - l ) / 2 of the array, \n",
    "    where l is the first index of the array and h is the last one).\n",
    "    \n",
    "    If p is equal to k, then a found message is returned.\n",
    "    \n",
    "    If p is greater than k, then k is searched in the sub-array to the left of the middle item. \n",
    "    Otherwise, k is searched in the sub-array to the right of the middle item.\n",
    "    \n",
    "    This process continues on the sub-array as well. \n",
    "    In each step, we update h and l values to match with the current subarray. \n",
    "    If l becomes greater than h (this means that k does not exist in A)\n",
    "    then we terminate the search and a message 'k is not found' is returned.\n",
    "\n",
    "\"\"\"\n",
    "def binary_search(A, l, h, k):\n",
    "      if h >= l:\n",
    "        mid = l + (h - l)/2 \n",
    "        mid = int(mid) \n",
    "        if A[mid] == k:\n",
    "          return 'k is found'\n",
    "        elif A[mid] > k:\n",
    "          return binary_search(A, l, mid-1, k)\n",
    "        else:\n",
    "          return binary_search(A, mid+1, h, k)\n",
    "      else:\n",
    "        return 'k is not found'\n",
    "# list \n",
    "A = [3, 5, 7, 12, 28, 34, 40, 41, 42, 46, 59]\n",
    "# key element \n",
    "k = 46 \n",
    "# the first element\n",
    "l = A[0] \n",
    "h = len(A) \n",
    "print(binary_search(A, l, h, k))"
   ]
  },
  {
   "cell_type": "code",
   "execution_count": null,
   "metadata": {},
   "outputs": [],
   "source": []
  }
 ],
 "metadata": {
  "kernelspec": {
   "display_name": "Python 3",
   "language": "python",
   "name": "python3"
  },
  "language_info": {
   "codemirror_mode": {
    "name": "ipython",
    "version": 3
   },
   "file_extension": ".py",
   "mimetype": "text/x-python",
   "name": "python",
   "nbconvert_exporter": "python",
   "pygments_lexer": "ipython3",
   "version": "3.8.2"
  }
 },
 "nbformat": 4,
 "nbformat_minor": 4
}
